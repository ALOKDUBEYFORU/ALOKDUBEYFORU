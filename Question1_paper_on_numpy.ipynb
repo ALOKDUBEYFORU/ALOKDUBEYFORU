{
  "nbformat": 4,
  "nbformat_minor": 0,
  "metadata": {
    "colab": {
      "provenance": [],
      "authorship_tag": "ABX9TyON7toU108v07lLYeyu5TGV",
      "include_colab_link": true
    },
    "kernelspec": {
      "name": "python3",
      "display_name": "Python 3"
    },
    "language_info": {
      "name": "python"
    }
  },
  "cells": [
    {
      "cell_type": "markdown",
      "metadata": {
        "id": "view-in-github",
        "colab_type": "text"
      },
      "source": [
        "<a href=\"https://colab.research.google.com/github/ALOKDUBEYFORU/ALOKDUBEYFORU/blob/main/Question1_paper_on_numpy.ipynb\" target=\"_parent\"><img src=\"https://colab.research.google.com/assets/colab-badge.svg\" alt=\"Open In Colab\"/></a>"
      ]
    },
    {
      "cell_type": "markdown",
      "source": [
        "1.\tCreate a 1D NumPy array of numbers from 0 to 19 using arange. What is the shape and number of dimensions?\n",
        "2.\tConvert the following float array to integer using astype:\n",
        "arr = np.array([1.2, 3.5, 4.9])\n",
        "3.\tIndex the value at 2nd row and 3rd column from the following array:\n",
        "a = np.array([[10, 20, 30], [40, 50, 60]])\n",
        "4.\tSlice every second value from the array:\n",
        "b = np.arange(10, 30)\n",
        "5.\tTranspose a 2x3 matrix and print its shape before and after:\n",
        "arr = np.array([[1, 2, 3], [4, 5, 6]])\n",
        "6.\tReshape a 1D array of 20 elements into a 2D array with 4 rows. What is the shape?\n",
        "7.\tGiven a 2D array of shape (4, 5), replace all even numbers with 0 using where.\n",
        "8.\tUse fancy indexing to extract the 1st, 3rd, and 4th rows from the following array:\n",
        "data = np.arange(40).reshape(5, 8)\n",
        "9.\tGiven a 2D array, find the sum of each column using an aggregate function.\n",
        "10.\tUse broadcasting to subtract the column means from a 2D array (zero-center each column).\n",
        "11.\tCheck if all values in a row are greater than 0 using all across axis=1:\n",
        "arr = np.array([[1, 2, 3], [0, 4, 5]])\n",
        "12.\tCheck if any value in each column is negative using any across axis=0:\n",
        "arr = np.array([[1, -1], [3, 4]])\n",
        "13.\tCreate a 5x5 matrix using arange, and extract the diagonal using slicing.\n",
        "14.\tUse astype to convert a matrix of floats to uint8 and explain what happens if a value > 255 exists.\n",
        "15.\tGiven a 2D array, replace all values > 50 with 99 using where.\n",
        "\n"
      ],
      "metadata": {
        "id": "e9lIPAj9Ydeh"
      }
    },
    {
      "cell_type": "code",
      "source": [
        "import numpy as np"
      ],
      "metadata": {
        "id": "9YJx7tKjYiI2"
      },
      "execution_count": 1,
      "outputs": []
    },
    {
      "cell_type": "code",
      "source": [
        "#1. Create a 1D NumPy array of numbers from 0 to 19 using arange. What is the shape and number of dimensions?\n",
        "arr1 = np.arange(0,20)\n",
        "print(arr1)"
      ],
      "metadata": {
        "colab": {
          "base_uri": "https://localhost:8080/"
        },
        "id": "0RD7OCWCYlWJ",
        "outputId": "1908ff6a-a428-4798-edd2-15a166234196"
      },
      "execution_count": 2,
      "outputs": [
        {
          "output_type": "stream",
          "name": "stdout",
          "text": [
            "[ 0  1  2  3  4  5  6  7  8  9 10 11 12 13 14 15 16 17 18 19]\n"
          ]
        }
      ]
    },
    {
      "cell_type": "code",
      "source": [
        "#2. Convert the following float array to integer using astype: arr = np.array([1.2, 3.5, 4.9])\n",
        "\n",
        "arr = np.array([1.2, 3.5, 4.9])\n",
        "\n",
        "arr = arr.astype(int)\n",
        "print(arr)"
      ],
      "metadata": {
        "colab": {
          "base_uri": "https://localhost:8080/"
        },
        "id": "DJA2vQhqYvCJ",
        "outputId": "f166904f-33cf-4a01-a915-175a7e60c444"
      },
      "execution_count": 3,
      "outputs": [
        {
          "output_type": "stream",
          "name": "stdout",
          "text": [
            "[1 3 4]\n"
          ]
        }
      ]
    },
    {
      "cell_type": "code",
      "source": [
        "#3. Index the value at 2nd row and 3rd column from the following array: a = np.array([[10, 20, 30], [40, 50, 60]])\n",
        "a = np.array([[10, 20, 30], [40, 50, 60]])\n",
        "print(a[1,2])"
      ],
      "metadata": {
        "colab": {
          "base_uri": "https://localhost:8080/"
        },
        "id": "Pwk_5W55Y_d0",
        "outputId": "ae62a280-f18d-49b4-cee0-54bf6acc8ba5"
      },
      "execution_count": 5,
      "outputs": [
        {
          "output_type": "stream",
          "name": "stdout",
          "text": [
            "60\n"
          ]
        }
      ]
    },
    {
      "cell_type": "code",
      "source": [
        "#4. Slice every second value from the array: b = np.arange(10, 30)\n",
        "\n",
        "b = np.arange(10, 30)\n",
        "print(b[::2])"
      ],
      "metadata": {
        "colab": {
          "base_uri": "https://localhost:8080/"
        },
        "id": "349wRAWKZPdV",
        "outputId": "45697794-42a7-47b2-f367-8fc64638bea0"
      },
      "execution_count": 6,
      "outputs": [
        {
          "output_type": "stream",
          "name": "stdout",
          "text": [
            "[10 12 14 16 18 20 22 24 26 28]\n"
          ]
        }
      ]
    },
    {
      "cell_type": "code",
      "source": [
        "#5. Transpose a 2x3 matrix and print its shape before and after: arr = np.array([[1, 2, 3], [4, 5, 6]])\n",
        "\n",
        "arr = np.array([[1, 2, 3], [4, 5, 6]])\n",
        "print('array before transose :\\n',arr)\n",
        "print('array after transose :\\n',arr.T)"
      ],
      "metadata": {
        "colab": {
          "base_uri": "https://localhost:8080/"
        },
        "id": "5yfL8JUtZo3w",
        "outputId": "bf22da3e-d57b-4a01-bc5f-ce0bc76ff0f2"
      },
      "execution_count": 7,
      "outputs": [
        {
          "output_type": "stream",
          "name": "stdout",
          "text": [
            "array before transose :\n",
            " [[1 2 3]\n",
            " [4 5 6]]\n",
            "array after transose :\n",
            " [[1 4]\n",
            " [2 5]\n",
            " [3 6]]\n"
          ]
        }
      ]
    },
    {
      "cell_type": "code",
      "source": [
        "#6. Reshape a 1D array of 20 elements into a 2D array with 4 rows. What is the shape?\n",
        "\n",
        "arr = np.arange(1,21)\n",
        "print(arr.reshape(4,-1).shape)"
      ],
      "metadata": {
        "colab": {
          "base_uri": "https://localhost:8080/"
        },
        "id": "zaTDdaAEaOEM",
        "outputId": "0655301f-985d-4cea-88f7-f97606286af4"
      },
      "execution_count": 8,
      "outputs": [
        {
          "output_type": "stream",
          "name": "stdout",
          "text": [
            "(4, 5)\n"
          ]
        }
      ]
    },
    {
      "cell_type": "code",
      "source": [
        "# 7. Given a 2D array of shape (4, 5), replace all even numbers with 0 using where.\n",
        "\n",
        "arr = np.arange(1,21).reshape(4,5)\n",
        "arr = np.where(arr%2==0,0,arr)\n",
        "print(arr)\n",
        "\n",
        "arr = np.arange(1,21).reshape(4,5)\n",
        "arr[arr%2 == 0] = 0\n",
        "print(arr)"
      ],
      "metadata": {
        "colab": {
          "base_uri": "https://localhost:8080/"
        },
        "id": "Lb5-VC1WakAf",
        "outputId": "8f78e82c-5a3b-4d20-82ba-cf48e37ff2e4"
      },
      "execution_count": 11,
      "outputs": [
        {
          "output_type": "stream",
          "name": "stdout",
          "text": [
            "[[ 1  0  3  0  5]\n",
            " [ 0  7  0  9  0]\n",
            " [11  0 13  0 15]\n",
            " [ 0 17  0 19  0]]\n",
            "[[ 1  0  3  0  5]\n",
            " [ 0  7  0  9  0]\n",
            " [11  0 13  0 15]\n",
            " [ 0 17  0 19  0]]\n"
          ]
        }
      ]
    },
    {
      "cell_type": "code",
      "source": [
        "#8. Use fancy indexing to extract the 1st, 3rd, and 4th rows from the following array: data = np.arange(40).reshape(5, 8)\n",
        "\n",
        "data = np.arange(40).reshape(5, 8)\n",
        "print(data)\n",
        "print(data[[1,3,4],:])"
      ],
      "metadata": {
        "colab": {
          "base_uri": "https://localhost:8080/"
        },
        "id": "TBRNE2f8a_75",
        "outputId": "85359515-aee8-4652-eb2b-f4147be2421e"
      },
      "execution_count": 13,
      "outputs": [
        {
          "output_type": "stream",
          "name": "stdout",
          "text": [
            "[[ 0  1  2  3  4  5  6  7]\n",
            " [ 8  9 10 11 12 13 14 15]\n",
            " [16 17 18 19 20 21 22 23]\n",
            " [24 25 26 27 28 29 30 31]\n",
            " [32 33 34 35 36 37 38 39]]\n",
            "[[ 8  9 10 11 12 13 14 15]\n",
            " [24 25 26 27 28 29 30 31]\n",
            " [32 33 34 35 36 37 38 39]]\n"
          ]
        }
      ]
    },
    {
      "cell_type": "code",
      "source": [
        "# 9. Given a 2D array, find the sum of each column using an aggregate function.\n",
        "arr = np.arange(20).reshape(4,5)\n",
        "print(arr)\n",
        "print(np.sum(arr,axis=0))"
      ],
      "metadata": {
        "colab": {
          "base_uri": "https://localhost:8080/"
        },
        "id": "orcwBpL8bm3T",
        "outputId": "ff61a80b-b4d7-4153-ccea-a6cfc1f50f72"
      },
      "execution_count": 14,
      "outputs": [
        {
          "output_type": "stream",
          "name": "stdout",
          "text": [
            "[[ 0  1  2  3  4]\n",
            " [ 5  6  7  8  9]\n",
            " [10 11 12 13 14]\n",
            " [15 16 17 18 19]]\n",
            "[30 34 38 42 46]\n"
          ]
        }
      ]
    },
    {
      "cell_type": "code",
      "source": [
        "# 10. Use broadcasting to subtract the column means from a 2D array (zero-center each column).\n",
        "\n",
        "arr = np.arange(-10,10).reshape(5,4)\n",
        "print(arr)\n",
        "print(arr - np.average(arr,axis=0))"
      ],
      "metadata": {
        "colab": {
          "base_uri": "https://localhost:8080/"
        },
        "id": "O7aev6ShcL1d",
        "outputId": "c0450e7c-5466-4d16-ae96-04ea24371cf1"
      },
      "execution_count": 20,
      "outputs": [
        {
          "output_type": "stream",
          "name": "stdout",
          "text": [
            "[[-10  -9  -8  -7]\n",
            " [ -6  -5  -4  -3]\n",
            " [ -2  -1   0   1]\n",
            " [  2   3   4   5]\n",
            " [  6   7   8   9]]\n",
            "[[-8. -8. -8. -8.]\n",
            " [-4. -4. -4. -4.]\n",
            " [ 0.  0.  0.  0.]\n",
            " [ 4.  4.  4.  4.]\n",
            " [ 8.  8.  8.  8.]]\n"
          ]
        }
      ]
    },
    {
      "cell_type": "code",
      "source": [
        "# 11. Check if all values in a row are greater than 0 using all across axis=1: arr = np.array([[1, 2, 3], [0, 4, 5]])\n",
        "arr = np.array([[1, 2, 3], [0, 4, 5]])\n",
        "print(np.all(arr>0,axis=1))"
      ],
      "metadata": {
        "colab": {
          "base_uri": "https://localhost:8080/"
        },
        "id": "poMnSTbQc69Z",
        "outputId": "3aad41a8-cee4-4b8f-c491-fe3faa0cf193"
      },
      "execution_count": 21,
      "outputs": [
        {
          "output_type": "stream",
          "name": "stdout",
          "text": [
            "[ True False]\n"
          ]
        }
      ]
    },
    {
      "cell_type": "code",
      "source": [
        "# 12. Check if any value in each column is negative using any across axis=0: arr = np.array([[1, -1], [3, 4]])\n",
        "\n",
        "arr = np.array([[1, -1], [3, 4]])\n",
        "print(np.any(arr < 0, axis = 0))"
      ],
      "metadata": {
        "colab": {
          "base_uri": "https://localhost:8080/"
        },
        "id": "mZV5UQsueXlj",
        "outputId": "3062bd71-912f-4199-a13c-485ab35867fe"
      },
      "execution_count": 22,
      "outputs": [
        {
          "output_type": "stream",
          "name": "stdout",
          "text": [
            "[False  True]\n"
          ]
        }
      ]
    },
    {
      "cell_type": "code",
      "source": [
        "#13. Create a 5x5 matrix using arange, and extract the diagonal using slicing.\n",
        "arr = np.arange(25).reshape(5,5)\n",
        "print(arr)\n",
        "print(arr[np.arange(0,5),np.arange(0,5)])"
      ],
      "metadata": {
        "colab": {
          "base_uri": "https://localhost:8080/"
        },
        "id": "dZ_o_YeJeoZt",
        "outputId": "4e05a7ff-a089-4852-eb7c-8f80478207b9"
      },
      "execution_count": 27,
      "outputs": [
        {
          "output_type": "stream",
          "name": "stdout",
          "text": [
            "[[ 0  1  2  3  4]\n",
            " [ 5  6  7  8  9]\n",
            " [10 11 12 13 14]\n",
            " [15 16 17 18 19]\n",
            " [20 21 22 23 24]]\n",
            "[ 0  6 12 18 24]\n"
          ]
        }
      ]
    },
    {
      "cell_type": "code",
      "source": [
        "#14. Use astype to convert a matrix of floats to uint8 and explain what happens if a value > 255 exists.\n",
        "arr = np.arange(250,260,dtype = float)\n",
        "print(arr.astype('uint8'))"
      ],
      "metadata": {
        "colab": {
          "base_uri": "https://localhost:8080/"
        },
        "id": "O6RdhwxAfLJM",
        "outputId": "48574560-37b6-4a58-895a-4dfbf605b819"
      },
      "execution_count": 31,
      "outputs": [
        {
          "output_type": "stream",
          "name": "stdout",
          "text": [
            "[250 251 252 253 254 255   0   1   2   3]\n"
          ]
        }
      ]
    },
    {
      "cell_type": "code",
      "source": [
        "#15. Given a 2D array, replace all values > 50 with 99 using where.\n",
        "arr = np.arange(40,60).reshape(4,5)\n",
        "print(arr)\n",
        "print(np.where(arr>50,99,arr))"
      ],
      "metadata": {
        "colab": {
          "base_uri": "https://localhost:8080/"
        },
        "id": "MIG73ejhgEID",
        "outputId": "7586885d-a82d-46be-a4ed-744c37486029"
      },
      "execution_count": 32,
      "outputs": [
        {
          "output_type": "stream",
          "name": "stdout",
          "text": [
            "[[40 41 42 43 44]\n",
            " [45 46 47 48 49]\n",
            " [50 51 52 53 54]\n",
            " [55 56 57 58 59]]\n",
            "[[40 41 42 43 44]\n",
            " [45 46 47 48 49]\n",
            " [50 99 99 99 99]\n",
            " [99 99 99 99 99]]\n"
          ]
        }
      ]
    },
    {
      "cell_type": "code",
      "source": [],
      "metadata": {
        "id": "Spli9Ge4gjb2"
      },
      "execution_count": null,
      "outputs": []
    }
  ]
}