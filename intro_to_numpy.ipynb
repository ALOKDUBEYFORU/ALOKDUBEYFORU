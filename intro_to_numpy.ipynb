{
  "nbformat": 4,
  "nbformat_minor": 0,
  "metadata": {
    "colab": {
      "provenance": [],
      "authorship_tag": "ABX9TyOf9BXrxf68PpMOBB0Trqpr",
      "include_colab_link": true
    },
    "kernelspec": {
      "name": "python3",
      "display_name": "Python 3"
    },
    "language_info": {
      "name": "python"
    }
  },
  "cells": [
    {
      "cell_type": "markdown",
      "metadata": {
        "id": "view-in-github",
        "colab_type": "text"
      },
      "source": [
        "<a href=\"https://colab.research.google.com/github/ALOKDUBEYFORU/ALOKDUBEYFORU/blob/main/intro_to_numpy.ipynb\" target=\"_parent\"><img src=\"https://colab.research.google.com/assets/colab-badge.svg\" alt=\"Open In Colab\"/></a>"
      ]
    },
    {
      "cell_type": "code",
      "execution_count": 1,
      "metadata": {
        "id": "mnSNeCHry6u4"
      },
      "outputs": [],
      "source": [
        "#import the numpy module with the alias name as np.\n",
        "import numpy as np\n",
        "import time"
      ]
    },
    {
      "cell_type": "code",
      "source": [
        "#Measuring the time delay in performing an operation with list than that of numpy array.\n",
        "#Creating the list variable to store the number from 1 to 1000000.\n",
        "list1 = list(range(1000000))\n",
        "#creating a numpy arrange varaible to store the numbers from 1 to 1000000\n",
        "arr1 = np.arange(1000000)\n",
        "\n",
        "#measuring the time delay of doing the sum of all the elements of the list\n",
        "start = time.time()\n",
        "sum_list1 = sum(list1)\n",
        "end = time.time()\n",
        "time_delay_list = end - start\n",
        "\n",
        "#measuring the time delay of doing the sum of all the elements of the numpy array\n",
        "start = time.time()\n",
        "sum_arr1 = np.sum(arr1)\n",
        "end = time.time()\n",
        "time_delay_arr = end - start\n",
        "\n",
        "print('time taken by the list :',time_delay_list)\n",
        "print('time taken by the array :',time_delay_arr)\n"
      ],
      "metadata": {
        "colab": {
          "base_uri": "https://localhost:8080/"
        },
        "id": "Q-PrQ9rXzDIg",
        "outputId": "ccc55431-4805-4719-ed75-e05d80a8d719"
      },
      "execution_count": 3,
      "outputs": [
        {
          "output_type": "stream",
          "name": "stdout",
          "text": [
            "time taken by the list : 0.014433860778808594\n",
            "time taken by the array : 0.0012888908386230469\n"
          ]
        }
      ]
    },
    {
      "cell_type": "markdown",
      "source": [
        "#Outcome :\n",
        "*     Numpy is approximately 9 times faster than the list."
      ],
      "metadata": {
        "id": "nkOBYcH5D-x5"
      }
    },
    {
      "cell_type": "code",
      "source": [
        "#declaration of an array in 1d, 2d, 3d\n",
        "#1d array\n",
        "arr_1_d = np.array([1,2,3])\n",
        "#2d array\n",
        "arr_2_d = np.array([[1,2,3],[4,5,6]])\n",
        "#3d array\n",
        "arr_3_d = np.array([[[1,2,3],[4,5,6]],[[7,8,9],[10,11,12]]])\n",
        "\n",
        "print('1d array :\\n',arr_1_d)\n",
        "print('\\n2d array :\\n',arr_2_d)\n",
        "print('\\n3d array :\\n',arr_3_d)"
      ],
      "metadata": {
        "colab": {
          "base_uri": "https://localhost:8080/"
        },
        "id": "W9w5Ke_l30ff",
        "outputId": "a17a2931-4f0a-4b5b-d8f3-624a8c9d57f3"
      },
      "execution_count": 10,
      "outputs": [
        {
          "output_type": "stream",
          "name": "stdout",
          "text": [
            "1d array :\n",
            " [1 2 3]\n",
            "\n",
            "2d array :\n",
            " [[1 2 3]\n",
            " [4 5 6]]\n",
            "\n",
            "3d array :\n",
            " [[[ 1  2  3]\n",
            "  [ 4  5  6]]\n",
            "\n",
            " [[ 7  8  9]\n",
            "  [10 11 12]]]\n"
          ]
        }
      ]
    },
    {
      "cell_type": "code",
      "source": [
        "#ndim : used to find out the number of dimension of an array\n",
        "print('dimension of 1d array ',arr_1_d.ndim )\n",
        "print('dimension of 2d array ',arr_2_d.ndim )\n",
        "print('dimension of 3d array ',arr_3_d.ndim )"
      ],
      "metadata": {
        "colab": {
          "base_uri": "https://localhost:8080/"
        },
        "id": "wHkU8Rf43z8U",
        "outputId": "f552d825-c7ae-4585-f4b8-7f30003b2273"
      },
      "execution_count": 12,
      "outputs": [
        {
          "output_type": "stream",
          "name": "stdout",
          "text": [
            "dimension of 1d array  1\n",
            "dimension of 2d array  2\n",
            "dimension of 3d array  3\n"
          ]
        }
      ]
    },
    {
      "cell_type": "code",
      "source": [
        "#shape method is used to idenfity the shape of the array.\n",
        "print('shape of 1d array ',arr_1_d.shape )\n",
        "print('shape of 2d array ',arr_2_d.shape )\n",
        "print('shape of 3d array ',arr_3_d.shape )"
      ],
      "metadata": {
        "colab": {
          "base_uri": "https://localhost:8080/"
        },
        "id": "IAhJ_8M0BLFt",
        "outputId": "cf6b29e2-9c7d-4028-9411-c5f149d9e92e"
      },
      "execution_count": 13,
      "outputs": [
        {
          "output_type": "stream",
          "name": "stdout",
          "text": [
            "shape of 1d array  (3,)\n",
            "shape of 2d array  (2, 3)\n",
            "shape of 3d array  (2, 2, 3)\n"
          ]
        }
      ]
    },
    {
      "cell_type": "markdown",
      "source": [
        "#Outcome :\n",
        "\n",
        "\n",
        "*   shape method of 1d array returns the number of elements in it in a tuple format.\n",
        "*   shape method of 2d array returns the number of rows and columns of in the array. There are two rows and three columns in the 2d array.\n",
        "*   shape method of 3d array returns the number of elements in the first dimension, 2nd dimension and third dimension. second dimension represents the rows, third dimension represents the columns\n"
      ],
      "metadata": {
        "id": "F6Bya5aQDYVQ"
      }
    },
    {
      "cell_type": "code",
      "source": [
        "#size method is used to identify the number of elements in an array. This can be multiplication of values returned by shape method as well.\n",
        "print('shape of 1d array ',arr_1_d.size )\n",
        "print('shape of 2d array ',arr_2_d.size )\n",
        "print('shape of 3d array ',arr_3_d.size )"
      ],
      "metadata": {
        "colab": {
          "base_uri": "https://localhost:8080/"
        },
        "id": "xhMMsUK7D539",
        "outputId": "5d0c1d57-1482-4c64-f72e-6f5515fce2db"
      },
      "execution_count": 14,
      "outputs": [
        {
          "output_type": "stream",
          "name": "stdout",
          "text": [
            "shape of 1d array  3\n",
            "shape of 2d array  6\n",
            "shape of 3d array  12\n"
          ]
        }
      ]
    },
    {
      "cell_type": "code",
      "source": [
        "#storing a mixed data into a numpy array\n",
        "arr1 = np.array([10,100.0,'python'])\n",
        "print(arr1)\n",
        "\n",
        "arr2 = np.array([10,100.0])\n",
        "print(arr2)\n"
      ],
      "metadata": {
        "colab": {
          "base_uri": "https://localhost:8080/"
        },
        "id": "qpGWRJfqFW6B",
        "outputId": "ffe5891d-4904-4632-aadf-8e6011feee67"
      },
      "execution_count": 16,
      "outputs": [
        {
          "output_type": "stream",
          "name": "stdout",
          "text": [
            "['10' '100.0' 'python']\n",
            "[ 10. 100.]\n"
          ]
        }
      ]
    },
    {
      "cell_type": "markdown",
      "source": [
        "#Outcome for a mixed data in a numpy array :\n",
        "*    if we store an integer, decimal and a string in a numpy array, then it will convert all the elements into string format\n",
        "*    If we store an integer, floating number in a numpy array, then it will conver the integer into a floating number."
      ],
      "metadata": {
        "id": "pMpnVu7nGUVI"
      }
    },
    {
      "cell_type": "code",
      "source": [],
      "metadata": {
        "id": "06fvi3SnGIec"
      },
      "execution_count": null,
      "outputs": []
    }
  ]
}